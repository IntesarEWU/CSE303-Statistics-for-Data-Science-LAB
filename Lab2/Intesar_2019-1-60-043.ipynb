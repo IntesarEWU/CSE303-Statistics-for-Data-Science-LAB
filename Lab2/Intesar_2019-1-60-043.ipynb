{
 "cells": [
  {
   "cell_type": "code",
   "execution_count": 11,
   "metadata": {
    "tags": []
   },
   "outputs": [
    {
     "name": "stdout",
     "output_type": "stream",
     "text": [
      "1st input:  12 \n",
      "2nd input:  30\n",
      "360\n"
     ]
    }
   ],
   "source": [
    "a = int(input(\"Enter 1st number: \"))\n",
    "b = int(input(\"Enter 2nd number: \"))\n",
    "c = b*a\n",
    "print('1st input: ',a,'\\n2nd input: ',b)\n",
    "if (c > 1000):\n",
    "    print(a+b)\n",
    "else: \n",
    "    print(c)"
   ]
  },
  {
   "cell_type": "code",
   "execution_count": 19,
   "metadata": {},
   "outputs": [
    {
     "name": "stdout",
     "output_type": "stream",
     "text": [
      "Radius:  23.0\n",
      "Aria:  1661.9025137490005 \n",
      "Perimeter:  144.51326206513048\n"
     ]
    }
   ],
   "source": [
    "import math\n",
    "radius = float(input('Enter radius of a circle: '))\n",
    "print('Radius: ',radius)\n",
    "area = math.pi*radius*radius\n",
    "perimeter = 2*math.pi*radius\n",
    "print('Aria: ',area,'\\nPerimeter: ',perimeter)"
   ]
  },
  {
   "cell_type": "code",
   "execution_count": 3,
   "metadata": {},
   "outputs": [
    {
     "name": "stdout",
     "output_type": "stream",
     "text": [
      "principal:  20.0 \n",
      "Rate of interest:  25.0 \n",
      "Number of years: 2.0\n",
      "Compound interest :  31.25\n"
     ]
    }
   ],
   "source": [
    "p = float(input(\"Enter the principal amount: \"))\n",
    "r = float(input(\"Enter the rate of interest: \"))\n",
    "t = float(input(\"Enter the number of years: \"))\n",
    "print('principal: ',p,'\\nRate of interest: ',r,'\\nNumber of years:',t)\n",
    "ci =  p * (pow((1 + r / 100), t)) \n",
    "\n",
    "print(\"Compound interest : \",ci)"
   ]
  },
  {
   "cell_type": "code",
   "execution_count": 26,
   "metadata": {},
   "outputs": [
    {
     "name": "stdout",
     "output_type": "stream",
     "text": [
      "Entered Number:  5\n",
      "55\n"
     ]
    }
   ],
   "source": [
    "n = int(input(\"Enter Any Positive Number: \"))\n",
    "print(\"Entered Number: \",n)\n",
    "sum=0\n",
    "for i in range(n):\n",
    "    i=i+1\n",
    "    sum=sum+(i*i)\n",
    "print(sum)"
   ]
  },
  {
   "cell_type": "code",
   "execution_count": 32,
   "metadata": {},
   "outputs": [
    {
     "name": "stdout",
     "output_type": "stream",
     "text": [
      "Entered Number:  7\n",
      "7 is  prime\n"
     ]
    }
   ],
   "source": [
    "def prime_find_2019160043(N):\n",
    "    for x in range(2,N):\n",
    "        if(N%x == 0):\n",
    "            return 'Not Prime'\n",
    "        else:\n",
    "            return 'prime'\n",
    "N = int(input('Enter a number: '))\n",
    "print('Entered Number: ',N)\n",
    "print(N,'is',prime_find_2019160043(N))"
   ]
  },
  {
   "cell_type": "code",
   "execution_count": 3,
   "metadata": {},
   "outputs": [
    {
     "name": "stdout",
     "output_type": "stream",
     "text": [
      "Entered Number:  9\n",
      "9th Fibonacci: 34\n"
     ]
    }
   ],
   "source": [
    "def fibonacci(n):\n",
    "    if(n==0):\n",
    "        return 0\n",
    "    elif(n==1 or n==2):\n",
    "        return 1\n",
    "    else:\n",
    "        return fibonacci(n-1)+fibonacci(n-2)\n",
    "n=int(input('Enter integer: '))\n",
    "print('Entered Number: ',n)\n",
    "print(n,'\\bth Fibonacci:',fibonacci(n))"
   ]
  },
  {
   "cell_type": "code",
   "execution_count": 11,
   "metadata": {},
   "outputs": [
    {
     "name": "stdout",
     "output_type": "stream",
     "text": [
      "6\n"
     ]
    }
   ],
   "source": [
    "list = [1,2,3]\n",
    "sum = 0 \n",
    "for x in list:\n",
    "    sum=sum+x\n",
    "print(sum)"
   ]
  },
  {
   "cell_type": "code",
   "execution_count": 18,
   "metadata": {},
   "outputs": [
    {
     "name": "stdout",
     "output_type": "stream",
     "text": [
      "3\n"
     ]
    }
   ],
   "source": [
    "list = [1,3,1,3,1,3]\n",
    "sum=0\n",
    "j=0\n",
    "for x in list:\n",
    "    if j % 2 == 0:\n",
    "        sum+=x\n",
    "    j+=1\n",
    "print(sum) "
   ]
  },
  {
   "cell_type": "markdown",
   "metadata": {},
   "source": [
    "Python String capitalize(): Converts first character to Capital Letter"
   ]
  },
  {
   "cell_type": "code",
   "execution_count": 20,
   "metadata": {},
   "outputs": [
    {
     "name": "stdout",
     "output_type": "stream",
     "text": [
      "This is a line\n"
     ]
    }
   ],
   "source": [
    "str = 'this is a line'\n",
    "print(str.capitalize())"
   ]
  },
  {
   "cell_type": "markdown",
   "metadata": {},
   "source": [
    "Python String casefold(): converts to case folded strings"
   ]
  },
  {
   "cell_type": "code",
   "execution_count": 23,
   "metadata": {},
   "outputs": [
    {
     "name": "stdout",
     "output_type": "stream",
     "text": [
      "this is a line\n"
     ]
    }
   ],
   "source": [
    "str = 'This is a LINE'\n",
    "print(str.casefold())"
   ]
  },
  {
   "cell_type": "markdown",
   "metadata": {},
   "source": [
    "Python String center(): Pads string with specified character"
   ]
  },
  {
   "cell_type": "code",
   "execution_count": 33,
   "metadata": {},
   "outputs": [
    {
     "name": "stdout",
     "output_type": "stream",
     "text": [
      "####This is a LINE###\n"
     ]
    }
   ],
   "source": [
    "str = 'This is a LINE'\n",
    "print(str.center(21, \"#\"))"
   ]
  },
  {
   "cell_type": "markdown",
   "metadata": {},
   "source": [
    "Python String count(): returns occurrences of substring in string"
   ]
  },
  {
   "cell_type": "code",
   "execution_count": 38,
   "metadata": {},
   "outputs": [
    {
     "name": "stdout",
     "output_type": "stream",
     "text": [
      "2\n",
      "1\n"
     ]
    }
   ],
   "source": [
    "str = 'This is a LINE'\n",
    "print(str.count('is'))\n",
    "print(str.count('is',4))"
   ]
  },
  {
   "cell_type": "markdown",
   "metadata": {},
   "source": [
    "Python String encode(): returns encoded string of given string"
   ]
  },
  {
   "cell_type": "code",
   "execution_count": 56,
   "metadata": {},
   "outputs": [
    {
     "name": "stdout",
     "output_type": "stream",
     "text": [
      "b'This is a LINE'\n"
     ]
    }
   ],
   "source": [
    "str = 'This is a LINE'\n",
    "print(str.encode())"
   ]
  },
  {
   "cell_type": "markdown",
   "metadata": {},
   "source": [
    "Python String endswith(): Checks if String Ends with the Specified Suffix"
   ]
  },
  {
   "cell_type": "code",
   "execution_count": 4,
   "metadata": {},
   "outputs": [
    {
     "name": "stdout",
     "output_type": "stream",
     "text": [
      "Text ends with \"E\":  True\n",
      "Text ends with \".\":  False\n"
     ]
    }
   ],
   "source": [
    "str = 'This is a LINE'\n",
    "\n",
    "print('Text ends with \"E\": ',str.endswith(\"E\"))\n",
    "print('Text ends with \".\": ',str.endswith(\".\"))"
   ]
  },
  {
   "cell_type": "markdown",
   "metadata": {},
   "source": [
    "Python String expandtabs(): Replaces Tab character With Spaces"
   ]
  },
  {
   "cell_type": "code",
   "execution_count": 13,
   "metadata": {},
   "outputs": [
    {
     "name": "stdout",
     "output_type": "stream",
     "text": [
      "Text ends with \"E\":  This is  a LINE\n",
      "Text ends with \"E\":  T       his is  a LINE\n",
      "Text ends with \"E\":  T               his is  a LINE\n"
     ]
    }
   ],
   "source": [
    "str = 'T\\this is  a LINE'\n",
    "\n",
    "print('Text ends with \"E\": ',str.expandtabs(0))\n",
    "print('Text ends with \"E\": ',str.expandtabs()) #by default 8\n",
    "print('Text ends with \"E\": ',str.expandtabs(16))"
   ]
  },
  {
   "cell_type": "markdown",
   "metadata": {},
   "source": [
    "Python String find(): Returns the index of first occurrence of substring"
   ]
  },
  {
   "cell_type": "code",
   "execution_count": 17,
   "metadata": {},
   "outputs": [
    {
     "name": "stdout",
     "output_type": "stream",
     "text": [
      "9\n"
     ]
    }
   ],
   "source": [
    "str = 'This is  a LINE'\n",
    "\n",
    "print(str.find(\"a\"))"
   ]
  },
  {
   "cell_type": "markdown",
   "metadata": {},
   "source": [
    "Python String format(): formats string into nicer output"
   ]
  },
  {
   "cell_type": "code",
   "execution_count": 19,
   "metadata": {},
   "outputs": [
    {
     "name": "stdout",
     "output_type": "stream",
     "text": [
      "1st input \"32\"\n",
      "2nd input \"Hello world\"\n"
     ]
    }
   ],
   "source": [
    "a= int(input(\"Enter a number: \"))\n",
    "b= input('Enter any string: ')\n",
    "\n",
    "print('1st input \"{}\"\\n2nd input \"{}\"'.format(a,b))"
   ]
  },
  {
   "cell_type": "markdown",
   "metadata": {},
   "source": [
    "Python String format_map(): Formats the String Using Dictionary"
   ]
  },
  {
   "cell_type": "code",
   "execution_count": 57,
   "metadata": {},
   "outputs": [
    {
     "name": "stdout",
     "output_type": "stream",
     "text": [
      "Intesar's last name is Khan\n"
     ]
    }
   ],
   "source": [
    "a = {'x': 'Intesar','y': 'Khan'}\n",
    "\n",
    "print(\"{x}'s last name is {y}\".format_map(a))"
   ]
  },
  {
   "cell_type": "markdown",
   "metadata": {},
   "source": [
    "Python String index(): Returns Index of Substring"
   ]
  },
  {
   "cell_type": "code",
   "execution_count": 23,
   "metadata": {},
   "outputs": [
    {
     "name": "stdout",
     "output_type": "stream",
     "text": [
      "position of 'a':  8\n"
     ]
    }
   ],
   "source": [
    "str = 'This is a line'\n",
    "\n",
    "print(\"position of 'a': \",str.index(\"a\"))"
   ]
  },
  {
   "cell_type": "markdown",
   "metadata": {},
   "source": [
    "Python String isalnum(): Checks Alphanumeric Character"
   ]
  },
  {
   "cell_type": "code",
   "execution_count": 26,
   "metadata": {},
   "outputs": [
    {
     "name": "stdout",
     "output_type": "stream",
     "text": [
      "You Entered:  #ok\n",
      "Alphanumeric:  False\n"
     ]
    }
   ],
   "source": [
    "str = input(\"Enter anything: \")\n",
    "print('You Entered: ',str)\n",
    "print('Alphanumeric: ',str.isalnum())"
   ]
  },
  {
   "cell_type": "markdown",
   "metadata": {},
   "source": [
    "Python String split(): Splits String from Left"
   ]
  },
  {
   "cell_type": "code",
   "execution_count": 30,
   "metadata": {},
   "outputs": [
    {
     "name": "stdout",
     "output_type": "stream",
     "text": [
      "You Entered:  this is a line\n",
      "['this', 'is', 'a', 'line']\n"
     ]
    }
   ],
   "source": [
    "str = input(\"Enter anything: \")\n",
    "print('You Entered: ',str)\n",
    "list = str.split()\n",
    "print(list)"
   ]
  },
  {
   "cell_type": "markdown",
   "metadata": {},
   "source": [
    "Python String join(): Returns a Concatenated String"
   ]
  },
  {
   "cell_type": "code",
   "execution_count": 31,
   "metadata": {},
   "outputs": [
    {
     "name": "stdout",
     "output_type": "stream",
     "text": [
      "This is a line\n"
     ]
    }
   ],
   "source": [
    "list = ('This','is','a','line')\n",
    "\n",
    "print(\" \".join(list))"
   ]
  },
  {
   "cell_type": "markdown",
   "metadata": {},
   "source": [
    "Python String replace(): Replaces Substring Inside"
   ]
  },
  {
   "cell_type": "code",
   "execution_count": 33,
   "metadata": {},
   "outputs": [
    {
     "name": "stdout",
     "output_type": "stream",
     "text": [
      "Before Replace:  This is a a Line\n",
      "After Replace:  This is a a sentence\n"
     ]
    }
   ],
   "source": [
    "str = 'This is a a Line'\n",
    "print('Before Replace: ',str)\n",
    "str = str.replace('Line', 'sentence')\n",
    "print('After Replace: ',str)"
   ]
  },
  {
   "cell_type": "markdown",
   "metadata": {},
   "source": [
    "Python String strip(): Removes Both Leading and Trailing Characters"
   ]
  },
  {
   "cell_type": "code",
   "execution_count": 55,
   "metadata": {},
   "outputs": [
    {
     "name": "stdout",
     "output_type": "stream",
     "text": [
      " is a Line\n",
      "his is a Line\n"
     ]
    }
   ],
   "source": [
    "str = 'This is a Line'\n",
    "print(str.strip('This'))\n",
    "str1 = 'T'\n",
    "print(str.strip(str1))"
   ]
  }
 ],
 "metadata": {
  "kernelspec": {
   "display_name": "Python 3.9.12 ('base')",
   "language": "python",
   "name": "python3"
  },
  "language_info": {
   "codemirror_mode": {
    "name": "ipython",
    "version": 3
   },
   "file_extension": ".py",
   "mimetype": "text/x-python",
   "name": "python",
   "nbconvert_exporter": "python",
   "pygments_lexer": "ipython3",
   "version": "3.9.12"
  },
  "orig_nbformat": 4,
  "vscode": {
   "interpreter": {
    "hash": "471ee6c89c83e3c7520a60f9a106588eda1f0ced6f8216612215bb9e43abcffc"
   }
  }
 },
 "nbformat": 4,
 "nbformat_minor": 2
}
